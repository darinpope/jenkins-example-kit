{
 "cells": [
  {
   "cell_type": "code",
   "execution_count": 1,
   "id": "807cc10e-f58f-4514-8010-e00e70794a89",
   "metadata": {},
   "outputs": [
    {
     "name": "stderr",
     "output_type": "stream",
     "text": [
      "c:\\users\\rrraj\\anaconda3\\envs\\dev6\\lib\\site-packages\\google\\auth\\crypt\\_cryptography_rsa.py:22: CryptographyDeprecationWarning: Python 3.6 is no longer supported by the Python core team. Therefore, support for it is deprecated in cryptography. The next release of cryptography will remove support for Python 3.6.\n",
      "  import cryptography.exceptions\n"
     ]
    }
   ],
   "source": [
    "import numpy as np\n",
    "import pandas as pd\n",
    "\n",
    "import tensorflow as tf\n",
    "\n",
    "from tensorflow import feature_column\n",
    "from tensorflow.keras import layers\n",
    "from sklearn.model_selection import train_test_split"
   ]
  },
  {
   "cell_type": "code",
   "execution_count": 3,
   "id": "fa9ca70a-b9ec-4615-b5b6-385e8273d575",
   "metadata": {},
   "outputs": [],
   "source": [
    "data = pd.read_csv(r'../data/train.csv')"
   ]
  },
  {
   "cell_type": "markdown",
   "id": "76359ea5-997c-4150-9e7a-153fe7458907",
   "metadata": {
    "tags": []
   },
   "source": [
    "# Pre-processing Data"
   ]
  },
  {
   "cell_type": "code",
   "execution_count": 4,
   "id": "18e4edd2-e076-4788-940d-902861eda5b7",
   "metadata": {},
   "outputs": [
    {
     "data": {
      "text/plain": [
       "Unnamed: 0                             0\n",
       "id                                     0\n",
       "Gender                                 0\n",
       "Customer Type                          0\n",
       "Age                                    0\n",
       "Type of Travel                         0\n",
       "Class                                  0\n",
       "Flight Distance                        0\n",
       "Inflight wifi service                  0\n",
       "Departure/Arrival time convenient      0\n",
       "Ease of Online booking                 0\n",
       "Gate location                          0\n",
       "Food and drink                         0\n",
       "Online boarding                        0\n",
       "Seat comfort                           0\n",
       "Inflight entertainment                 0\n",
       "On-board service                       0\n",
       "Leg room service                       0\n",
       "Baggage handling                       0\n",
       "Checkin service                        0\n",
       "Inflight service                       0\n",
       "Cleanliness                            0\n",
       "Departure Delay in Minutes             0\n",
       "Arrival Delay in Minutes             310\n",
       "satisfaction                           0\n",
       "dtype: int64"
      ]
     },
     "execution_count": 4,
     "metadata": {},
     "output_type": "execute_result"
    }
   ],
   "source": [
    "#Check for Blank Values\n",
    "data.isna().sum()"
   ]
  },
  {
   "cell_type": "code",
   "execution_count": 5,
   "id": "40358bf8-37eb-499d-92bb-8c879cf679e8",
   "metadata": {},
   "outputs": [],
   "source": [
    "# Drop Blank Values\n",
    "data.dropna(inplace=True)"
   ]
  },
  {
   "cell_type": "code",
   "execution_count": 6,
   "id": "80e8c168-c783-46ae-9779-615af41fad74",
   "metadata": {},
   "outputs": [],
   "source": [
    "# Drop columns which just show the serial number\n",
    "data.drop(columns=['Unnamed: 0','id'], inplace=True)"
   ]
  },
  {
   "cell_type": "code",
   "execution_count": 7,
   "id": "bd34a8a9-72c4-45f6-a476-ca54d6a7e2ec",
   "metadata": {},
   "outputs": [],
   "source": [
    "data['satisfaction_labels'] = data['satisfaction'].apply(lambda x : 1 if x=='satisfied' else 0)"
   ]
  },
  {
   "cell_type": "code",
   "execution_count": 8,
   "id": "b0c51bf6-f609-437b-9d8e-da6d8411bad7",
   "metadata": {},
   "outputs": [],
   "source": [
    "data.columns = data.columns.str.replace(' ', '_')"
   ]
  },
  {
   "cell_type": "code",
   "execution_count": 9,
   "id": "31c4d3b9-13f0-4c13-8590-6e5b951bd3c4",
   "metadata": {},
   "outputs": [],
   "source": [
    "data.drop(columns=['satisfaction'], inplace=True)"
   ]
  },
  {
   "cell_type": "markdown",
   "id": "14123db8-9f3b-4a2a-acbc-e331ead2ad72",
   "metadata": {
    "tags": []
   },
   "source": [
    "# Data Splitting"
   ]
  },
  {
   "cell_type": "code",
   "execution_count": 10,
   "id": "1dde906d-504e-436b-9910-ee5b0e0299b5",
   "metadata": {},
   "outputs": [
    {
     "name": "stdout",
     "output_type": "stream",
     "text": [
      "82875 train examples\n",
      "20719 validation examples\n"
     ]
    }
   ],
   "source": [
    "train, val = train_test_split(data, test_size=0.2)\n",
    "print(len(train), 'train examples')\n",
    "print(len(val), 'validation examples')"
   ]
  },
  {
   "cell_type": "markdown",
   "id": "f2c6a1b4-5189-495f-b6ae-bc881b70aa79",
   "metadata": {
    "tags": []
   },
   "source": [
    "# Data Conversion to TF Dataset Format"
   ]
  },
  {
   "cell_type": "code",
   "execution_count": 11,
   "id": "8b71a873-bb44-4cd1-a6bc-5426faaaae48",
   "metadata": {},
   "outputs": [],
   "source": [
    "def df_to_dataset(dataframe, shuffle=True, batch_size=32):\n",
    "  dataframe = dataframe.copy()\n",
    "  labels = dataframe.pop('satisfaction_labels')\n",
    "  ds = tf.data.Dataset.from_tensor_slices((dict(dataframe), labels))\n",
    "  if shuffle:\n",
    "    ds = ds.shuffle(buffer_size=len(dataframe))\n",
    "  ds = ds.batch(batch_size)\n",
    "  return ds"
   ]
  },
  {
   "cell_type": "code",
   "execution_count": 12,
   "id": "c048a322-95ba-43b5-b714-e5a9359588f4",
   "metadata": {},
   "outputs": [],
   "source": [
    "batch_size = 32\n",
    "train_ds = df_to_dataset(train, batch_size=batch_size)\n",
    "val_ds = df_to_dataset(val, shuffle=False, batch_size=batch_size)"
   ]
  },
  {
   "cell_type": "code",
   "execution_count": 13,
   "id": "1f0aef9d-e886-4994-8128-0327674e3b25",
   "metadata": {},
   "outputs": [
    {
     "name": "stdout",
     "output_type": "stream",
     "text": [
      "Every feature: ['Gender', 'Customer_Type', 'Age', 'Type_of_Travel', 'Class', 'Flight_Distance', 'Inflight_wifi_service', 'Departure/Arrival_time_convenient', 'Ease_of_Online_booking', 'Gate_location', 'Food_and_drink', 'Online_boarding', 'Seat_comfort', 'Inflight_entertainment', 'On-board_service', 'Leg_room_service', 'Baggage_handling', 'Checkin_service', 'Inflight_service', 'Cleanliness', 'Departure_Delay_in_Minutes', 'Arrival_Delay_in_Minutes']\n",
      "A batch of ages: tf.Tensor(\n",
      "[35 49 41 49  7 25 68 17 43 37 40 20 39 33 58 36 34 38 29 58 21 33 36 52\n",
      " 23 19 15 31 19 54 48 33], shape=(32,), dtype=int32)\n",
      "A batch of targets: tf.Tensor([0 0 1 0 0 1 1 0 0 0 1 0 1 0 1 1 0 1 1 0 0 0 0 0 1 0 0 1 0 1 1 1], shape=(32,), dtype=int32)\n"
     ]
    }
   ],
   "source": [
    "for feature_batch, label_batch in train_ds.take(1):\n",
    "  print('Every feature:', list(feature_batch.keys()))\n",
    "  print('A batch of ages:', feature_batch['Age'])\n",
    "  print('A batch of targets:', label_batch )"
   ]
  },
  {
   "cell_type": "markdown",
   "id": "0b154f16-b668-48cd-8f48-e9c50fb65155",
   "metadata": {
    "tags": []
   },
   "source": [
    "# Feature Transformation"
   ]
  },
  {
   "cell_type": "code",
   "execution_count": 14,
   "id": "819c6e85-895d-4c8e-8f1c-f427a0771b73",
   "metadata": {},
   "outputs": [
    {
     "name": "stdout",
     "output_type": "stream",
     "text": [
      "Numerical columns: ['Age', 'Flight_Distance', 'Inflight_wifi_service', 'Departure/Arrival_time_convenient', 'Ease_of_Online_booking', 'Gate_location', 'Food_and_drink', 'Online_boarding', 'Seat_comfort', 'Inflight_entertainment', 'On-board_service', 'Leg_room_service', 'Baggage_handling', 'Checkin_service', 'Inflight_service', 'Cleanliness', 'Departure_Delay_in_Minutes', 'Arrival_Delay_in_Minutes']\n",
      "Categorical columns: ['Gender', 'Customer_Type', 'Type_of_Travel', 'Class']\n"
     ]
    }
   ],
   "source": [
    "element_spec = train_ds.element_spec\n",
    "\n",
    "# Identify numerical and categorical columns\n",
    "numerical_cols = []\n",
    "categorical_cols = []\n",
    "for key, value in element_spec[0].items():\n",
    "    if value.dtype in (tf.float32, tf.float64, tf.int32, tf.int64):\n",
    "        numerical_cols.append(key)\n",
    "    else:\n",
    "        categorical_cols.append(key)\n",
    "\n",
    "print(\"Numerical columns:\", numerical_cols)\n",
    "print(\"Categorical columns:\", categorical_cols)"
   ]
  },
  {
   "cell_type": "code",
   "execution_count": 15,
   "id": "f7717323-2eb4-4fd0-a5d2-96568e98e567",
   "metadata": {},
   "outputs": [],
   "source": [
    "feature_columns = []\n",
    "\n",
    "# numeric cols\n",
    "for num_cols in numerical_cols:\n",
    "  feature_columns.append(feature_column.numeric_column(num_cols))"
   ]
  },
  {
   "cell_type": "code",
   "execution_count": 18,
   "id": "8771f3ae-701a-41c4-a1c3-7953675ad84d",
   "metadata": {},
   "outputs": [],
   "source": [
    "for col_name in categorical_cols:\n",
    "  categorical_column = feature_column.categorical_column_with_vocabulary_list(\n",
    "      col_name, data[col_name].unique())\n",
    "  indicator_column = feature_column.indicator_column(categorical_column)\n",
    "  feature_columns.append(indicator_column)"
   ]
  },
  {
   "cell_type": "markdown",
   "id": "185ad913-bc65-4880-91f0-5cbaf6986617",
   "metadata": {
    "tags": []
   },
   "source": [
    "# Model Building"
   ]
  },
  {
   "cell_type": "code",
   "execution_count": 19,
   "id": "d75fbed4-a436-4d31-8800-8889180f813c",
   "metadata": {},
   "outputs": [],
   "source": [
    "feature_layer = tf.keras.layers.DenseFeatures(feature_columns)"
   ]
  },
  {
   "cell_type": "code",
   "execution_count": 20,
   "id": "173b5f77-cf08-4839-89ce-c18246fe731d",
   "metadata": {},
   "outputs": [
    {
     "name": "stdout",
     "output_type": "stream",
     "text": [
      "WARNING:tensorflow:Layer sequential is casting an input tensor from dtype float64 to the layer's dtype of float32, which is new behavior in TensorFlow 2.  The layer has dtype float32 because it's dtype defaults to floatx.\n",
      "\n",
      "If you intended to run this layer in float32, you can safely ignore this warning. If in doubt, this warning is likely only an issue if you are porting a TensorFlow 1.X model to TensorFlow 2.\n",
      "\n",
      "To change all layers to have dtype float64 by default, call `tf.keras.backend.set_floatx('float64')`. To change just this layer, pass dtype='float64' to the layer constructor. If you are the author of this layer, you can disable autocasting by passing autocast=False to the base Layer constructor.\n",
      "\n",
      "WARNING:tensorflow:From c:\\users\\rrraj\\anaconda3\\envs\\dev6\\lib\\site-packages\\tensorflow_core\\python\\feature_column\\feature_column_v2.py:4276: IndicatorColumn._variable_shape (from tensorflow.python.feature_column.feature_column_v2) is deprecated and will be removed in a future version.\n",
      "Instructions for updating:\n",
      "The old _FeatureColumn APIs are being deprecated. Please use the new FeatureColumn APIs instead.\n",
      "WARNING:tensorflow:From c:\\users\\rrraj\\anaconda3\\envs\\dev6\\lib\\site-packages\\tensorflow_core\\python\\feature_column\\feature_column_v2.py:4331: VocabularyListCategoricalColumn._num_buckets (from tensorflow.python.feature_column.feature_column_v2) is deprecated and will be removed in a future version.\n",
      "Instructions for updating:\n",
      "The old _FeatureColumn APIs are being deprecated. Please use the new FeatureColumn APIs instead.\n",
      "Epoch 1/10\n",
      "2590/2590 [==============================] - 23s 9ms/step - loss: 0.6932 - accuracy: 0.5663 - val_loss: 0.0000e+00 - val_accuracy: 0.0000e+00\n",
      "Epoch 2/10\n",
      "2590/2590 [==============================] - 19s 7ms/step - loss: 0.6931 - accuracy: 0.5664 - val_loss: 0.6931 - val_accuracy: 0.5675\n",
      "Epoch 3/10\n",
      "2590/2590 [==============================] - 18s 7ms/step - loss: 0.6931 - accuracy: 0.5664 - val_loss: 0.6931 - val_accuracy: 0.5675\n",
      "Epoch 4/10\n",
      "2590/2590 [==============================] - 18s 7ms/step - loss: 0.6931 - accuracy: 0.5664 - val_loss: 0.6931 - val_accuracy: 0.5675\n",
      "Epoch 5/10\n",
      "2590/2590 [==============================] - 19s 7ms/step - loss: 0.6931 - accuracy: 0.5664 - val_loss: 0.6931 - val_accuracy: 0.5675\n",
      "Epoch 6/10\n",
      "2590/2590 [==============================] - 19s 7ms/step - loss: 0.6931 - accuracy: 0.5664 - val_loss: 0.6931 - val_accuracy: 0.5675\n",
      "Epoch 7/10\n",
      "2590/2590 [==============================] - 18s 7ms/step - loss: 0.6931 - accuracy: 0.5664 - val_loss: 0.6931 - val_accuracy: 0.5675\n",
      "Epoch 8/10\n",
      "2590/2590 [==============================] - 19s 7ms/step - loss: 0.6931 - accuracy: 0.5664 - val_loss: 0.6931 - val_accuracy: 0.5675\n",
      "Epoch 9/10\n",
      "2590/2590 [==============================] - 18s 7ms/step - loss: 0.6931 - accuracy: 0.5664 - val_loss: 0.6931 - val_accuracy: 0.5675\n",
      "Epoch 10/10\n",
      "2590/2590 [==============================] - 18s 7ms/step - loss: 0.6931 - accuracy: 0.5664 - val_loss: 0.6931 - val_accuracy: 0.5675\n"
     ]
    },
    {
     "data": {
      "text/plain": [
       "<tensorflow.python.keras.callbacks.History at 0x20dcd5a7f60>"
      ]
     },
     "execution_count": 20,
     "metadata": {},
     "output_type": "execute_result"
    }
   ],
   "source": [
    "model = tf.keras.Sequential([\n",
    "  feature_layer,\n",
    "  layers.Dense(128, activation='relu'),\n",
    "  layers.Dense(256, activation='relu'),\n",
    "  layers.Dropout(.1),\n",
    "  layers.Dense(1, activation='sigmoid')\n",
    "])\n",
    "\n",
    "model.compile(optimizer='adam',\n",
    "              loss=tf.keras.losses.BinaryCrossentropy(from_logits=True),\n",
    "              metrics=['accuracy'])\n",
    "\n",
    "model.fit(train_ds,\n",
    "          validation_data=val_ds,\n",
    "          epochs=10)"
   ]
  },
  {
   "cell_type": "markdown",
   "id": "5b40c2da-76bb-4f27-b125-d71518217294",
   "metadata": {
    "jp-MarkdownHeadingCollapsed": true
   },
   "source": [
    "# Inference"
   ]
  },
  {
   "cell_type": "code",
   "execution_count": 78,
   "id": "df1725d6-4dad-4545-9e57-a0109cb90b6b",
   "metadata": {},
   "outputs": [
    {
     "name": "stdout",
     "output_type": "stream",
     "text": [
      "812/812 [==============================] - 2s 2ms/step\n",
      "Binary Predictions:\n",
      "[[1]\n",
      " [1]\n",
      " [0]\n",
      " ...\n",
      " [0]\n",
      " [1]\n",
      " [0]]\n"
     ]
    }
   ],
   "source": [
    "# Reading Test Data\n",
    "test_data = pd.read_csv(r'Dataset/test.csv')\n",
    "\n",
    "test_data.drop(columns=['Unnamed: 0','id'], inplace=True)\n",
    "test_data.columns = test_data.columns.str.replace(' ', '_')\n",
    "\n",
    "test_data['satisfaction_bin_labels'] = test_data['satisfaction'].apply(lambda x : 1 if x=='satisfied' else 0)\n",
    "\n",
    "test_features = {col: test_data[col].values for col in test_data.columns if col != 'satisfaction'}\n",
    "\n",
    "# Make predictions on the test dataset\n",
    "predictions = model.predict(test_features)\n",
    "\n",
    "# Assuming predictions are probabilities, convert them to binary labels (0 or 1)\n",
    "binary_predictions = np.round(predictions).astype(int)\n",
    "\n",
    "# Print or use binary_predictions as needed\n",
    "print(\"Binary Predictions:\")\n",
    "print(binary_predictions)"
   ]
  },
  {
   "cell_type": "code",
   "execution_count": 79,
   "id": "292c945d-20ca-4dfb-b97a-94e41dbf50ec",
   "metadata": {},
   "outputs": [
    {
     "name": "stdout",
     "output_type": "stream",
     "text": [
      "              precision    recall  f1-score   support\n",
      "\n",
      "           0       0.92      0.94      0.93     14573\n",
      "           1       0.93      0.90      0.91     11403\n",
      "\n",
      "    accuracy                           0.92     25976\n",
      "   macro avg       0.92      0.92      0.92     25976\n",
      "weighted avg       0.92      0.92      0.92     25976\n",
      "\n"
     ]
    }
   ],
   "source": [
    "# Evaluating Model on Test Data\n",
    "from sklearn.metrics import classification_report\n",
    "\n",
    "print(classification_report(test_data['satisfaction_bin_labels'].values, binary_predictions))"
   ]
  },
  {
   "cell_type": "markdown",
   "id": "1a7e00fb-83ea-4205-9b73-1d66d704ec78",
   "metadata": {},
   "source": [
    "# Save Model"
   ]
  },
  {
   "cell_type": "code",
   "execution_count": null,
   "id": "7c6af2b1-f324-4c48-a5df-9c3272ca9d7c",
   "metadata": {},
   "outputs": [],
   "source": [
    "model_filename = \"dl_model_v1\"\n",
    "\n",
    "# Save the entire model (including architecture, optimizer, and learned weights)\n",
    "model.save(f\"models/{model_filename}\")"
   ]
  },
  {
   "cell_type": "markdown",
   "id": "103daacb-0006-4c1a-9844-438ed35530b9",
   "metadata": {},
   "source": [
    "# Model Tuning"
   ]
  },
  {
   "cell_type": "code",
   "execution_count": null,
   "id": "faf353ba-e174-4bd6-a41c-9564d791fb82",
   "metadata": {},
   "outputs": [],
   "source": [
    "# Below is a sample code for finetuning the model , you can customise it according to your implementation.\n",
    "# We have provided some default parameters & layers which you can customize.\n",
    "\n",
    "# def build_model(n_hidden=1, n_neurons=30, learning_rate=3e-3, input_shape=[8]):\n",
    "    \n",
    "#     model = tf.keras.models.Sequential()\n",
    "#     model.add(tf.keras.kayers.InputLayer(input_shape=input_shape))\n",
    "#     for layer in range(n_hidden):\n",
    "#         model.add(tf.keras.layers.Dense(n_neurons, activation=\"relu\"))\n",
    "#     model.add(tf.keras.layers.Dense(1))\n",
    "#     optimizer = tf.keras.optimizers.SGD(lr=learning_rate)\n",
    "#     model.compile(loss='sparse_categorical_crossentropy', optimizer=optimizer)\n",
    "    \n",
    "#     return model\n",
    "\n",
    "# tune_model_obj = tf.keras.wrappers.scikit_learn.KerasClassifier(build_model)\n",
    "\n",
    "# tune_model_obj.fit(X_train, y_train, epochs=10,\n",
    "#                     validation_data=(X_valid, y_valid),\n",
    "#                     callbacks=tf.keras.callbacks.EarlyStopping(patience=10))\n",
    "\n",
    "# param_space = {...}\n",
    "\n",
    "# rndm_search = RandomizedSearchCV(tune_model_obj, param_space, n_iter=10, cv=3)\n",
    "\n",
    "# rndm_search.fit(X_train, y_train, epochs=10,\n",
    "#                 validation_data=(X_valid, y_valid),\n",
    "#                 callbacks=tf.keras.callbacks.EarlyStopping(patience=10))"
   ]
  }
 ],
 "metadata": {
  "kernelspec": {
   "display_name": "Python 3",
   "language": "python",
   "name": "python3"
  },
  "language_info": {
   "codemirror_mode": {
    "name": "ipython",
    "version": 3
   },
   "file_extension": ".py",
   "mimetype": "text/x-python",
   "name": "python",
   "nbconvert_exporter": "python",
   "pygments_lexer": "ipython3",
   "version": "3.6.13"
  }
 },
 "nbformat": 4,
 "nbformat_minor": 5
}
